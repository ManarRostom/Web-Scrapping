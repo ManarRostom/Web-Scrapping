{
 "cells": [
  {
   "cell_type": "markdown",
   "id": "ee2592e7",
   "metadata": {},
   "source": [
    "# **Books Website Web Srapping**"
   ]
  },
  {
   "cell_type": "markdown",
   "id": "6d8af4b8",
   "metadata": {},
   "source": [
    "### Import Libraries"
   ]
  },
  {
   "cell_type": "code",
   "execution_count": 3,
   "id": "03575ca9",
   "metadata": {},
   "outputs": [],
   "source": [
    "from bs4 import BeautifulSoup\n",
    "import requests\n",
    "import csv"
   ]
  },
  {
   "cell_type": "markdown",
   "id": "4cb7c716",
   "metadata": {},
   "source": [
    "### Read content of the website page "
   ]
  },
  {
   "cell_type": "code",
   "execution_count": 4,
   "id": "b1b4e5c6",
   "metadata": {},
   "outputs": [],
   "source": [
    "response = requests.get(\"https://books.toscrape.com/\")"
   ]
  },
  {
   "cell_type": "markdown",
   "id": "3014bb75",
   "metadata": {},
   "source": [
    "### Parse the content to HTML"
   ]
  },
  {
   "cell_type": "code",
   "execution_count": 5,
   "id": "44c2df25",
   "metadata": {},
   "outputs": [],
   "source": [
    "soup = BeautifulSoup(response.text , \"html.parser\")"
   ]
  },
  {
   "cell_type": "markdown",
   "id": "c1a97dee",
   "metadata": {},
   "source": [
    "### Scrap names of categories"
   ]
  },
  {
   "cell_type": "code",
   "execution_count": 6,
   "id": "571c72a3",
   "metadata": {},
   "outputs": [],
   "source": [
    "categories = [li.find('a').get_text().strip() for li in soup.find_all(\"ul\")[1].find_all(\"li\")][1:]"
   ]
  },
  {
   "cell_type": "markdown",
   "id": "c8de8ccd",
   "metadata": {},
   "source": [
    "### Scrap content of each category and save it to CSV file"
   ]
  },
  {
   "cell_type": "code",
   "execution_count": 8,
   "id": "dcfbe6bf",
   "metadata": {},
   "outputs": [],
   "source": [
    "# write on CSV file\n",
    "cat_num = 1\n",
    "with open(\"BooksToScrap3.csv\",\"w\",newline=\"\",encoding=\"utf-8\") as file:\n",
    "    writer = csv.DictWriter(file,fieldnames=[\"CategoryName\",\"BookName\",\"Price\",\"Rate\"])\n",
    "    writer.writeheader()\n",
    "    # Iterate on each categorey\n",
    "    for cat in categories:\n",
    "        cat_num +=1\n",
    "        category_name = cat.lower().replace(\" \",\"-\") + \"_\" + str(cat_num)\n",
    "        response = requests.get(\"https://books.toscrape.com/catalogue/category/books/\"+category_name+\"/index.html\")\n",
    "        soup = BeautifulSoup(response.text , \"html.parser\")\n",
    "        # Scrap the first page\n",
    "        for article in soup.find_all(\"article\",attrs={\"class\":\"product_pod\"}):\n",
    "            CategoryName = cat\n",
    "            BookName = article.find('h3').find(\"a\").get(\"title\")\n",
    "            Price = article.find(\"div\",attrs={\"class\":\"product_price\"}).find(\"p\").get_text()[2:]\n",
    "            Rate = article.find('p').get(\"class\")[1]\n",
    "            writer.writerow({\"CategoryName\":CategoryName, \"BookName\":BookName, \"Price\":Price, \"Rate\":Rate })\n",
    "        \n",
    "        ## Check if category has more than 1 page\n",
    "        if len(soup.find(\"form\",attrs={\"class\":\"form-horizontal\"}).find_all(\"strong\")) > 1:\n",
    "            # Scrap the other pages\n",
    "            for num in range(2,int(soup.find(\"li\",attrs={\"class\",\"current\"}).get_text().strip().split(\" \")[3])+1):\n",
    "                response = requests.get(\"https://books.toscrape.com/catalogue/category/books/\"+category_name+\"/page-\"+str(num)+\".html\")\n",
    "                soup = BeautifulSoup(response.text , \"html.parser\")\n",
    "                for article in soup.find_all(\"article\",attrs={\"class\":\"product_pod\"}):\n",
    "                    CategoryName = cat\n",
    "                    BookName = article.find('h3').find(\"a\").get(\"title\")\n",
    "                    Price = article.find(\"div\",attrs={\"class\":\"product_price\"}).find(\"p\").get_text()[2:]\n",
    "                    Rate = article.find('p').get(\"class\")[1]\n",
    "                    writer.writerow({\"CategoryName\":CategoryName, \"BookName\":BookName, \"Price\":Price, \"Rate\":Rate})\n",
    "\n",
    "        "
   ]
  },
  {
   "cell_type": "code",
   "execution_count": null,
   "id": "6e41c773",
   "metadata": {},
   "outputs": [],
   "source": []
  }
 ],
 "metadata": {
  "kernelspec": {
   "display_name": "Python 3 (ipykernel)",
   "language": "python",
   "name": "python3"
  },
  "language_info": {
   "codemirror_mode": {
    "name": "ipython",
    "version": 3
   },
   "file_extension": ".py",
   "mimetype": "text/x-python",
   "name": "python",
   "nbconvert_exporter": "python",
   "pygments_lexer": "ipython3",
   "version": "3.10.8"
  }
 },
 "nbformat": 4,
 "nbformat_minor": 5
}
